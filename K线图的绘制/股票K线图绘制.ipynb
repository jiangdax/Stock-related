{
 "cells": [
  {
   "cell_type": "code",
   "execution_count": null,
   "id": "23651b82",
   "metadata": {},
   "outputs": [],
   "source": [
    "import pandas as pd\n",
    "import tushare as ts\n",
    "from pyecharts import Kline\n",
    "# ts.set_token('your token')\n",
    "pro = ts.pro_api()\n",
    "code,begin,end = input('请依次输入股票代码，开始日期，结束日期，用“英文逗号，”隔开').split(',')\n",
    "df1 = pro.daily(ts_code = code,start_date = begin ,end_date = end)\n",
    "df1 = df1.sort_values('trade_date') # 将日期按照升序排列，默认assending = True\n",
    "x = list(df1.trade_date) # 设置x轴\n",
    "y = df1[['open','close','low','high']].values.tolist() \n",
    "# 设定k线图y轴相关数据 注意数据据需要转化为列表形式\n",
    "# .values 将df转换为array数组的形式；.tolist()将数组转化为列表形式，也可用zip函数见下\n",
    "a = Kline(f'{code} K线图') # 命名\n",
    "a.add(code,x,y,is_datazoom_show = True,\n",
    "         mark_line=[\"average\"],\n",
    "         mark_point=[\"max\", \"min\"],\n",
    "         mark_point_symbolsize=60,\n",
    "         mark_line_valuedim=['highest', 'lowest']) # .add('图例名称'，x轴数据（list），y轴数据(list),is_datazoom_show是否为缩放模式(默认为False))\n",
    "a.render(f'{code} K线图.html') # 保存文件名称，必须为html"
   ]
  }
 ],
 "metadata": {
  "kernelspec": {
   "display_name": "Python 3 (ipykernel)",
   "language": "python",
   "name": "python3"
  },
  "language_info": {
   "codemirror_mode": {
    "name": "ipython",
    "version": 3
   },
   "file_extension": ".py",
   "mimetype": "text/x-python",
   "name": "python",
   "nbconvert_exporter": "python",
   "pygments_lexer": "ipython3",
   "version": "3.9.7"
  }
 },
 "nbformat": 4,
 "nbformat_minor": 5
}
